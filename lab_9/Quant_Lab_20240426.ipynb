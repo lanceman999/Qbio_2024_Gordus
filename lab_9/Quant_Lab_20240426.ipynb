{
  "cells": [
    {
      "cell_type": "markdown",
      "metadata": {
        "id": "zPQBWHXl6ldH"
      },
      "source": [
        "# Quantitative Biology and Biophysics (AS.020.674/618)\tSpring 2024\n",
        "# Lab 9: Hilser\n",
        "# April 26, 2024\n",
        "\n",
        "#  Enzyme Kinetics\n",
        "\n",
        "The goal of this lab is to practice fitting kinetic models to experimental data.\n",
        "\n",
        "## Libraries you will need"
      ]
    },
    {
      "cell_type": "code",
      "execution_count": 2,
      "metadata": {
        "id": "noDWcH8Z6ldM"
      },
      "outputs": [],
      "source": [
        "import numpy as np\n",
        "import matplotlib.pyplot as plt\n",
        "from scipy.optimize import minimize"
      ]
    },
    {
      "cell_type": "markdown",
      "metadata": {
        "id": "fGPcE0tcC41I"
      },
      "source": [
        "# Problem 1A:\n",
        "\n",
        "We are going to deal with reactions where a reactant (A) is being converted into a product (B) under different reaction orders.\n",
        "\n",
        "Create plots of the concentration of A ([A]) vs. time (0 ≤ t ≤ 10) for a zero order, first order, and second order decay reaction in one figure, setting the starting concentration ([A]0) and t1/2 equal to one. Be sure to label the axes and add a legend that identifies the individual plots.\n",
        "\n",
        "**NOTE: The concentration of A cannot be below zero!**\n",
        "\n",
        "## <font color='red'>Student Input Cell: 5 points</font>"
      ]
    },
    {
      "cell_type": "code",
      "execution_count": 14,
      "metadata": {
        "id": "PcDESRMM6ldR"
      },
      "outputs": [
        {
          "data": {
            "image/png": "[encoded data removed]",
            "text/plain": [
              "<Figure size 640x480 with 1 Axes>"
            ]
          },
          "metadata": {},
          "output_type": "display_data"
        }
      ],
      "source": [
        "# define half life value\n",
        "t_half = 1\n",
        "# define starting concentration value\n",
        "A0 = 1\n",
        "# create vector containing discrete time values\n",
        "t = np.arange(0,10,0.2)\n",
        "\n",
        "\n",
        "\n",
        "# zero-order reaction\n",
        "# calculate rate constant from half-life\n",
        "K = A0/(2*t_half)\n",
        "# calculate concentration of A at time t, zero-order reaction\n",
        "At = A0 - (K*t)\n",
        "# correct for the fact that the concentration cannot drop below 0\n",
        "At[At<0] = 0\n",
        "\n",
        "\n",
        "\n",
        "# first-order reaction\n",
        "# calculate rate constant from half-life\n",
        "K1 = np.log(2)/t_half\n",
        "# calculate concentration of A at time t, first-order reaction\n",
        "At_1 = A0 * np.exp(-K1*t)\n",
        "\n",
        "\n",
        "\n",
        "# second-order reaction\n",
        "# calculate rate constant from half-life\n",
        "K2 = 1/(A0*t_half)\n",
        "# calculate concentration of A at time t, second-order reaction\n",
        "At_2 = A0/(1+(A0*K2*t))\n",
        "\n",
        "\n",
        "plt.style.use('ggplot')\n",
        "\n",
        "plt.scatter(t, At, label = \"Zero-order\", color = 'mediumvioletred')\n",
        "plt.scatter(t, At_1, label = \"Rirst-order\", color = 'hotpink')\n",
        "plt.scatter(t, At_2, label = \"Second-order\", color = 'lightpink')\n",
        "\n",
        "plt.xlabel(\"Time\")\n",
        "plt.ylabel(\"A(t)\")\n",
        "\n",
        "plt.legend(loc = \"upper right\")\n",
        "\n",
        "plt.tight_layout()\n",
        "plt.show()"
      ]
    },
    {
      "cell_type": "markdown",
      "metadata": {
        "id": "Xf4n2T_375wq"
      },
      "source": [
        "# Problem 1B:\n",
        "What fraction of the reactant A has been converted into product for each of the reactions at the following time points?\n",
        "\n",
        "t = 0.1, 0.5, 1, 2, 10\n",
        "\n",
        "**NOTE: Remember, the fraction of A that has been converted into B CANNOT be >1!**\n",
        "\n",
        "## <font color='red'>Student Input Cell: 5 points</font>"
      ]
    },
    {
      "cell_type": "code",
      "execution_count": 20,
      "metadata": {
        "id": "ibarKbXr75wq"
      },
      "outputs": [
        {
          "name": "stdout",
          "output_type": "stream",
          "text": [
            "Zero-order: [0.05 0.25 0.5  1.   1.  ]\n",
            "First-order: [0.06696701 0.29289322 0.5        0.75       0.99902344]\n",
            "Second-order: [0.09090909 0.33333333 0.5        0.66666667 0.90909091]\n"
          ]
        }
      ],
      "source": [
        "t = np.array([0.1, 0.5, 1, 2, 10])\n",
        "# calculate rate constant from half-life\n",
        "K = A0/(2*t_half)\n",
        "# calculate concentration of A at time t, zero-order reaction\n",
        "At = A0 - (K*t)\n",
        "# correct for the fact that the concentration cannot drop below 0\n",
        "At[At<0] = 0\n",
        "\n",
        "\n",
        "\n",
        "# First-order reaction\n",
        "# calculate rate constant from half-life\n",
        "K1 = np.log(2)/t_half\n",
        "# calculate concentration of A at time t, first-order reaction\n",
        "At_1 = A0 * np.exp(-K1*t)\n",
        "\n",
        "\n",
        "\n",
        "# Second-order reaction\n",
        "# calculate rate constant from half-life\n",
        "K2 = 1/(A0*t_half)\n",
        "# calculate concentration of A at time t, second-order reaction\n",
        "At_2 = A0/(1+(A0*K2*t))\n",
        "\n",
        "print(\"Zero-order:\", A0 - At)\n",
        "print(\"First-order:\", A0 - At_1)\n",
        "print(\"Second-order:\", A0 - At_2)"
      ]
    },
    {
      "cell_type": "markdown",
      "metadata": {
        "id": "-dCKVN4N75wr"
      },
      "source": [
        "# Problem 1C:\n",
        "\n",
        "Which reaction was faster when t < $t_{1/2}$?\n",
        "\n",
        "Which reaction was faster when t > $t_{1/2}$?\n",
        "\n",
        "## <font color='red'>Student Input Cell: 2 points</font>"
      ]
    },
    {
      "cell_type": "code",
      "execution_count": 21,
      "metadata": {
        "id": "37r_R7vr75wr"
      },
      "outputs": [],
      "source": [
        "# Second-order was the faster!\n",
        "# Zero-order was the faster!"
      ]
    },
    {
      "cell_type": "markdown",
      "metadata": {
        "id": "WqGauYXZ75ws"
      },
      "source": [
        "# Problem 2A:\n",
        "\n",
        "Many kinetic processes can be broken down into several elementary reactions. One example is a sequential reaction in which an intermediate is formed:\n",
        "\n",
        "\n",
        "<img src=\"http://www.gordus.org/public_images/intermediate.png\" style=\"width: 300px;\"/>\n",
        "\n",
        "In this case, the conversion of A to B proceeds through an intermediate I. Each reaction is first order.\n",
        "\n",
        "Let’s say that you can tune experimental conditions such that you can vary $k_{2}$ without affecting $k_{1}$.\n",
        "\n",
        "Create one figure containing plots of [B] vs. time (for 0 ≤ t ≤ 15 s) for the following combinations of rate constants:\n",
        "\n",
        "k1 =  0.25 s, k2 =   1.00 s\n",
        "\n",
        "k1 =  0.25 s, k2 =   3.00 s\n",
        "\n",
        "k1 =  0.25 s, k2 =  10.00 s\n",
        "\n",
        "k1 =  0.25 s, k2 =  30.00 s\n",
        "\n",
        "k1 =  0.25 s, k2 = 100.00 s\n",
        "\n",
        "## <font color='red'>Student Input Cell: 10 points</font>"
      ]
    },
    {
      "cell_type": "code",
      "execution_count": 24,
      "metadata": {
        "id": "LglFpmgd75ws"
      },
      "outputs": [
        {
          "data": {
            "image/png": "[encoded data removed]",
            "text/plain": [
              "<Figure size 640x480 with 1 Axes>"
            ]
          },
          "metadata": {},
          "output_type": "display_data"
        }
      ],
      "source": [
        "# Create a function for your reaction equation\n",
        "def two_step_react(A0,k1,k2,t):\n",
        "    B = A0*(1 - (1/(k2-k1))*(k2 * np.exp(-k1*t)- k1 * np.exp(-k2*t)))\n",
        "\n",
        "    return B\n",
        "\n",
        "\n",
        "# Plot the 5 predictions\n",
        "t = np.arange(0,15,0.5)\n",
        "A0 = 1\n",
        "k1 = 0.25 \n",
        "k2 = 1.00 \n",
        "plt.style.use('ggplot')\n",
        "plt.scatter(t,two_step_react(A0,k1,k2,t), label = \"k2 = 1\")\n",
        "\n",
        "\n",
        "\n",
        "k1 = 0.25\n",
        "k2 = 3.00\n",
        "plt.scatter(t,two_step_react(A0,k1,k2,t), label = \"k2 = 3\")\n",
        "\n",
        "\n",
        "\n",
        "k1 = 0.25\n",
        "k2 = 10.00\n",
        "plt.scatter(t,two_step_react(A0,k1,k2,t), label = \"k2 = 10\")\n",
        "\n",
        "\n",
        "k1 = 0.25\n",
        "k2 = 30.00\n",
        "plt.scatter(t,two_step_react(A0,k1,k2,t), label = \"k2 = 30\")\n",
        "\n",
        "\n",
        "\n",
        "k1 = 0.25\n",
        "k2 = 100.00\n",
        "plt.scatter(t, two_step_react(A0,k1,k2,t), label = \"k2 = 100\")\n",
        "\n",
        "plt.xlabel(\"Time\")\n",
        "plt.ylabel(\"[B]\")\n",
        "\n",
        "plt.legend(loc = \"upper left\")\n",
        "\n",
        "plt.tight_layout()\n",
        "plt.show()"
      ]
    },
    {
      "cell_type": "markdown",
      "metadata": {
        "id": "oq3cvJbZ75wt"
      },
      "source": [
        "# Problem 2B:\n",
        "\n",
        "What are the values of the half-life ($t_{1/2}$) for consumption of A? How do they compare? Why do they not differ by a factor of 100, as $k_{2}$ does?\n",
        "\n",
        "## <font color='red'>Student Input Cell: 3 points</font>"
      ]
    },
    {
      "cell_type": "code",
      "execution_count": 25,
      "metadata": {
        "id": "oM9Zraod75wt"
      },
      "outputs": [
        {
          "name": "stdout",
          "output_type": "stream",
          "text": [
            "2.772588722239781\n"
          ]
        }
      ],
      "source": [
        "# Half-life for A:\n",
        "k1 = 0.25\n",
        "thalf = np.log(2)/k1\n",
        "print(thalf)\n",
        "\n",
        "# How do they compare?\n",
        "# Answer: They're the same!\n",
        "\n",
        "# Why do they not differ by a factor of 100?\n",
        "# Answer: Becuase the half-life of a first order raction is only dependent on k1"
      ]
    },
    {
      "cell_type": "markdown",
      "metadata": {
        "id": "j_T3yerh75wt"
      },
      "source": [
        "# Problem 2C:\n",
        "\n",
        "What are the values of the half-life ($t_{1/2}$) for production of B? How do they compare? Why do they not differ by a factor of 100, as $k_{2}$ does?\n",
        "\n",
        "This problem will be easier to solve numerically. Below is an example for a first-order reaction where k=1. By defnition, we know that the half life is ln(2)/k.\n",
        "\n",
        "## Example"
      ]
    },
    {
      "cell_type": "code",
      "execution_count": 26,
      "metadata": {
        "id": "lkLcFSsq75wt",
        "outputId": "d65d360f-a924-4372-90e8-feadadfec9d4"
      },
      "outputs": [
        {
          "name": "stdout",
          "output_type": "stream",
          "text": [
            "[0.69314717]\n",
            "0.6931471805599453\n"
          ]
        }
      ],
      "source": [
        "def find_half_example(t,A0,k):\n",
        "    A = np.abs(A0*np.exp(-k*t) - 0.5)\n",
        "    return A\n",
        "\n",
        "result = minimize(find_half_example, 1, (1,1))\n",
        "\n",
        "# half-life\n",
        "print(result.x)\n",
        "print(np.log(2))"
      ]
    },
    {
      "cell_type": "markdown",
      "metadata": {
        "id": "sR4APmws75wu"
      },
      "source": [
        "## <font color='red'>Student Input Cell: 10 points</font>"
      ]
    },
    {
      "cell_type": "code",
      "execution_count": 30,
      "metadata": {
        "id": "uT7Km7DB75wu"
      },
      "outputs": [
        {
          "name": "stdout",
          "output_type": "stream",
          "text": [
            "k2=1 half-life isz: [3.86763057]\n",
            "k2=3 half-life is: [3.12052143]\n",
            "k2=10 half-life is: [2.87385794]\n",
            "k2=30 half-life is: [2.80605997]\n",
            "k2=100 half-life is: [2.78259959]\n"
          ]
        }
      ],
      "source": [
        "# Compute half-life values\n",
        "def find_half(t,A0,k1,k2):\n",
        "    B = (A0*(1 - (1/(k2-k1))*(k2 * np.exp(-k1*t)- k1 * np.exp(-k2*t)))-0.5)**2\n",
        "    return B\n",
        "\n",
        "k2 = 1\n",
        "result = minimize(find_half,1,(1,0.25,k2))\n",
        "print(\"k2=1 half-life isz:\", result.x)\n",
        "\n",
        "k2 = 3\n",
        "result = minimize(find_half,1,(1,0.25,k2))\n",
        "print(\"k2=3 half-life is:\", result.x)\n",
        "\n",
        "k2 = 10\n",
        "result = minimize(find_half,1,(1,0.25,k2))\n",
        "print(\"k2=10 half-life is:\", result.x)\n",
        "\n",
        "k2 = 30\n",
        "result = minimize(find_half,1,(1,0.25,k2))\n",
        "print(\"k2=30 half-life is:\", result.x)\n",
        "\n",
        "k2 = 100\n",
        "result = minimize(find_half,1,(1,0.25,k2))\n",
        "print(\"k2=100 half-life is:\", result.x)\n",
        "\n",
        "# Why do they not differ by a factor of 100?\n",
        "# Answer: Given that k1 is the rate limiting step, changes to k2 do not proportionally affect the half-life"
      ]
    }
  ],
  "metadata": {
    "colab": {
      "provenance": []
    },
    "kernelspec": {
      "display_name": "Python 3",
      "language": "python",
      "name": "python3"
    },
    "language_info": {
      "codemirror_mode": {
        "name": "ipython",
        "version": 3
      },
      "file_extension": ".py",
      "mimetype": "text/x-python",
      "name": "python",
      "nbconvert_exporter": "python",
      "pygments_lexer": "ipython3",
      "version": "3.12.2"
    }
  },
  "nbformat": 4,
  "nbformat_minor": 0
}
