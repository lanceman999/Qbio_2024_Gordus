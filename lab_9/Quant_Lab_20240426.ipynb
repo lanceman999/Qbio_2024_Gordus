{
  "cells": [
    {
      "cell_type": "markdown",
      "metadata": {
        "id": "zPQBWHXl6ldH"
      },
      "source": [
        "# Quantitative Biology and Biophysics (AS.020.674/618)\tSpring 2024\n",
        "# Lab 9: Hilser\n",
        "# April 26, 2024\n",
        "\n",
        "#  Enzyme Kinetics\n",
        "\n",
        "The goal of this lab is to practice fitting kinetic models to experimental data.\n",
        "\n",
        "## Libraries you will need"
      ]
    },
    {
      "cell_type": "code",
      "execution_count": null,
      "metadata": {
        "id": "noDWcH8Z6ldM"
      },
      "outputs": [],
      "source": [
        "import numpy as np\n",
        "import matplotlib.pyplot as plt\n",
        "from scipy.optimize import minimize"
      ]
    },
    {
      "cell_type": "markdown",
      "metadata": {
        "id": "fGPcE0tcC41I"
      },
      "source": [
        "# Problem 1A:\n",
        "\n",
        "We are going to deal with reactions where a reactant (A) is being converted into a product (B) under different reaction orders.\n",
        "\n",
        "Create plots of the concentration of A ([A]) vs. time (0 ≤ t ≤ 10) for a zero order, first order, and second order decay reaction in one figure, setting the starting concentration ([A]0) and t1/2 equal to one. Be sure to label the axes and add a legend that identifies the individual plots.\n",
        "\n",
        "**NOTE: The concentration of A cannot be below zero!**\n",
        "\n",
        "## <font color='red'>Student Input Cell: 5 points</font>"
      ]
    },
    {
      "cell_type": "code",
      "execution_count": null,
      "metadata": {
        "id": "PcDESRMM6ldR"
      },
      "outputs": [],
      "source": [
        "# define half life value\n",
        "\n",
        "\n",
        "# define starting concentration value\n",
        "\n",
        "\n",
        "# create vector containing discrete time values\n",
        "\n",
        "\n",
        "# zero-order reaction\n",
        "# calculate rate constant from half-life\n",
        "\n",
        "# calculate concentration of A at time t, zero-order reaction\n",
        "\n",
        "# correct for the fact that the concentration cannot drop below 0\n",
        "\n",
        "\n",
        "# first-order reaction\n",
        "# calculate rate constant from half-life\n",
        "\n",
        "# calculate concentration of A at time t, zero-order reaction\n",
        "\n",
        "\n",
        "# second-order reaction\n",
        "# calculate rate constant from half-life\n",
        "\n",
        "# calculate concentration of A at time t, zero-order reaction\n",
        "\n",
        "\n"
      ]
    },
    {
      "cell_type": "markdown",
      "metadata": {
        "id": "Xf4n2T_375wq"
      },
      "source": [
        "# Problem 1B:\n",
        "What fraction of the reactant A has been converted into product for each of the reactions at the following time points?\n",
        "\n",
        "t = 0.1, 0.5, 1, 2, 10\n",
        "\n",
        "**NOTE: Remember, the fraction of A that has been converted into B CANNOT be >1!**\n",
        "\n",
        "## <font color='red'>Student Input Cell: 5 points</font>"
      ]
    },
    {
      "cell_type": "code",
      "execution_count": null,
      "metadata": {
        "id": "ibarKbXr75wq"
      },
      "outputs": [],
      "source": []
    },
    {
      "cell_type": "markdown",
      "metadata": {
        "id": "-dCKVN4N75wr"
      },
      "source": [
        "# Problem 1C:\n",
        "\n",
        "Which reaction was faster when t < $t_{1/2}$?\n",
        "\n",
        "Which reaction was faster when t > $t_{1/2}$?\n",
        "\n",
        "## <font color='red'>Student Input Cell: 2 points</font>"
      ]
    },
    {
      "cell_type": "code",
      "execution_count": null,
      "metadata": {
        "id": "37r_R7vr75wr"
      },
      "outputs": [],
      "source": []
    },
    {
      "cell_type": "markdown",
      "metadata": {
        "id": "WqGauYXZ75ws"
      },
      "source": [
        "# Problem 2A:\n",
        "\n",
        "Many kinetic processes can be broken down into several elementary reactions. One example is a sequential reaction in which an intermediate is formed:\n",
        "\n",
        "\n",
        "<img src=\"http://www.gordus.org/public_images/intermediate.png\" style=\"width: 300px;\"/>\n",
        "\n",
        "In this case, the conversion of A to B proceeds through an intermediate I. Each reaction is first order.\n",
        "\n",
        "Let’s say that you can tune experimental conditions such that you can vary $k_{2}$ without affecting $k_{1}$.\n",
        "\n",
        "Create one figure containing plots of [B] vs. time (for 0 ≤ t ≤ 15 s) for the following combinations of rate constants:\n",
        "\n",
        "k1 =  0.25 s, k2 =   1.00 s\n",
        "\n",
        "k1 =  0.25 s, k2 =   3.00 s\n",
        "\n",
        "k1 =  0.25 s, k2 =  10.00 s\n",
        "\n",
        "k1 =  0.25 s, k2 =  30.00 s\n",
        "\n",
        "k1 =  0.25 s, k2 = 100.00 s\n",
        "\n",
        "## <font color='red'>Student Input Cell: 10 points</font>"
      ]
    },
    {
      "cell_type": "code",
      "execution_count": null,
      "metadata": {
        "id": "LglFpmgd75ws"
      },
      "outputs": [],
      "source": [
        "# Creat a function for your reaction equation\n",
        "\n",
        "def two_step_react(A0,k1,k2,t):\n",
        "\n",
        "\n",
        "\n",
        "    return B\n",
        "\n",
        "# Plot the 5 predictions\n",
        "\n",
        "\n"
      ]
    },
    {
      "cell_type": "markdown",
      "metadata": {
        "id": "oq3cvJbZ75wt"
      },
      "source": [
        "# Problem 2B:\n",
        "\n",
        "What are the values of the half-life ($t_{1/2}$) for consumption of A? How do they compare? Why do they not differ by a factor of 100, as $k_{2}$ does?\n",
        "\n",
        "## <font color='red'>Student Input Cell: 3 points</font>"
      ]
    },
    {
      "cell_type": "code",
      "execution_count": null,
      "metadata": {
        "id": "oM9Zraod75wt"
      },
      "outputs": [],
      "source": [
        "# Half-life for A:\n",
        "\n",
        "\n",
        "\n",
        "\n",
        "\n",
        "# How do they compare?\n",
        "\n",
        "# Answer:\n",
        "\n",
        "# Why do they not differ by a factor of 100?\n",
        "\n",
        "# Answer:\n"
      ]
    },
    {
      "cell_type": "markdown",
      "metadata": {
        "id": "j_T3yerh75wt"
      },
      "source": [
        "# Problem 2C:\n",
        "\n",
        "What are the values of the half-life ($t_{1/2}$) for production of B? How do they compare? Why do they not differ by a factor of 100, as $k_{2}$ does?\n",
        "\n",
        "This problem will be easier to solve numerically. Below is an example for a first-order reaction where k=1. By defnition, we know that the half life is ln(2)/k.\n",
        "\n",
        "## Example"
      ]
    },
    {
      "cell_type": "code",
      "execution_count": null,
      "metadata": {
        "id": "lkLcFSsq75wt",
        "outputId": "d65d360f-a924-4372-90e8-feadadfec9d4"
      },
      "outputs": [
        {
          "name": "stdout",
          "output_type": "stream",
          "text": [
            "[0.69314717]\n",
            "0.6931471805599453\n"
          ]
        }
      ],
      "source": [
        "def find_half_example(t,A0,k):\n",
        "\n",
        "    A = np.abs(A0*np.exp(-k*t) - 0.5)\n",
        "\n",
        "    return A\n",
        "\n",
        "result = minimize(find_half_example, 1, (1,1))\n",
        "\n",
        "# half-life\n",
        "\n",
        "print(result.x)\n",
        "print(np.log(2))"
      ]
    },
    {
      "cell_type": "markdown",
      "metadata": {
        "id": "sR4APmws75wu"
      },
      "source": [
        "## <font color='red'>Student Input Cell: 10 points</font>"
      ]
    },
    {
      "cell_type": "code",
      "execution_count": null,
      "metadata": {
        "id": "uT7Km7DB75wu"
      },
      "outputs": [],
      "source": [
        "# Compute half-life values\n",
        "\n",
        "def find_half(t,A0,k1,k2):\n",
        "\n",
        "\n",
        "    return B\n",
        "\n",
        "\n",
        "# Why do they not differ by a factor of 100?\n",
        "\n",
        "# Answer:"
      ]
    },
    {
      "cell_type": "code",
      "execution_count": null,
      "metadata": {
        "id": "5PIp4UyQ75wu"
      },
      "outputs": [],
      "source": []
    }
  ],
  "metadata": {
    "colab": {
      "provenance": []
    },
    "kernelspec": {
      "display_name": "Python 3",
      "language": "python",
      "name": "python3"
    },
    "language_info": {
      "codemirror_mode": {
        "name": "ipython",
        "version": 3
      },
      "file_extension": ".py",
      "mimetype": "text/x-python",
      "name": "python",
      "nbconvert_exporter": "python",
      "pygments_lexer": "ipython3",
      "version": "3.12.2"
    }
  },
  "nbformat": 4,
  "nbformat_minor": 0
}
